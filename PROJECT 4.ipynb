{
 "cells": [
  {
   "cell_type": "code",
   "execution_count": 74,
   "metadata": {},
   "outputs": [],
   "source": [
    "#assign data survey\n",
    "#install library\n",
    "mydata <- read.csv('group8.csv')\n",
    "library(psych)"
   ]
  },
  {
   "cell_type": "markdown",
   "metadata": {},
   "source": [
    "# Cronbach Alpha"
   ]
  },
  {
   "cell_type": "code",
   "execution_count": 70,
   "metadata": {
    "scrolled": false
   },
   "outputs": [
    {
     "name": "stderr",
     "output_type": "stream",
     "text": [
      "Warning message in var(if (is.vector(x) || is.factor(x)) x else as.double(x), na.rm = na.rm):\n",
      "\"NAs introduced by coercion\"Warning message in alpha(mydata):\n",
      "\"Item = Pilihan.Jawaban had no variance and was deleted\"Warning message in cor.smooth(r):\n",
      "\"Matrix was not positive definite, smoothing was done\"Warning message in alpha(mydata):\n",
      "\"Some items were negatively correlated with the total scale and probably \n",
      "should be reversed.  \n",
      "To do this, run the function again with the 'check.keys=TRUE' option\""
     ]
    },
    {
     "name": "stdout",
     "output_type": "stream",
     "text": [
      "Some items ( Seberapa.perlunya.dokumen.manual.tutorial.ketika.membuat.program. ) were negatively correlated with the total scale and \n",
      "probably should be reversed.  \n",
      "To do this, run the function again with the 'check.keys=TRUE' option"
     ]
    },
    {
     "name": "stderr",
     "output_type": "stream",
     "text": [
      "Warning message in cor.smooth(R):\n",
      "\"Matrix was not positive definite, smoothing was done\"Warning message in cor.smooth(R):\n",
      "\"Matrix was not positive definite, smoothing was done\"Warning message in cor.smooth(R):\n",
      "\"Matrix was not positive definite, smoothing was done\"Warning message in cor.smooth(R):\n",
      "\"Matrix was not positive definite, smoothing was done\"Warning message in cor.smooth(R):\n",
      "\"Matrix was not positive definite, smoothing was done\"Warning message in cor.smooth(R):\n",
      "\"Matrix was not positive definite, smoothing was done\"Warning message in cor.smooth(R):\n",
      "\"Matrix was not positive definite, smoothing was done\"Warning message in cor.smooth(R):\n",
      "\"Matrix was not positive definite, smoothing was done\"Warning message in cor.smooth(R):\n",
      "\"Matrix was not positive definite, smoothing was done\"Warning message in cor.smooth(R):\n",
      "\"Matrix was not positive definite, smoothing was done\"Warning message in cor.smooth(R):\n",
      "\"Matrix was not positive definite, smoothing was done\"Warning message in cor.smooth(R):\n",
      "\"Matrix was not positive definite, smoothing was done\"Warning message in cor.smooth(R):\n",
      "\"Matrix was not positive definite, smoothing was done\"Warning message in cor.smooth(R):\n",
      "\"Matrix was not positive definite, smoothing was done\""
     ]
    },
    {
     "data": {
      "text/plain": [
       "\n",
       "Reliability analysis   \n",
       "Call: alpha(x = mydata)\n",
       "\n",
       "  raw_alpha std.alpha G6(smc) average_r S/N   ase mean sd median_r\n",
       "      0.95      0.95       1      0.59  18 0.017   42 64     0.63\n",
       "\n",
       " lower alpha upper     95% confidence boundaries\n",
       "0.92 0.95 0.98 \n",
       "\n",
       " Reliability if an item is dropped:\n",
       "                                                                                              raw_alpha\n",
       "Seberapa.sering.anda.menggunakan.bahasa.pemrograman.C.                                             0.95\n",
       "Seberapa.tahukah.anda.tentang.bahasa.permograman.Java.                                             0.95\n",
       "Pernahkah.anda.membuat.program.menggunakan.bahasa.pemrograman.Python.                              0.94\n",
       "Seberapa.tahukah.anda.tentang.Pemrograman.Interface..API..                                         0.95\n",
       "Seberapa.tahukah.anda.tentang.Pemrograman.Berorientasi.Objek..OOP..                                0.95\n",
       "Seberapa.sering.anda.menggunakan.programming.software.bajakan.                                     0.94\n",
       "Seberapa.perlunya.dokumen.manual.tutorial.ketika.membuat.program.                                  0.97\n",
       "Pernakah.anda.melakukan.trial.dan.error.atau.mengembangkan.program.yang.dibuat.orang.lain.         0.94\n",
       "Seberapa.seringkah.anda.menggunakan.Extension.saat.membuat.program.                                0.94\n",
       "Seberapa.sering.anda.mengelola..menginstal.menghapus.menonaktifkan.instalasi..Extension.anda.      0.94\n",
       "Apakah.anda.sering.menggunakan.Extension.berbayar.                                                 0.94\n",
       "Apakah.anda.sering.menggunakan.Auto.Indent.Extension.                                              0.94\n",
       "                                                                                              std.alpha\n",
       "Seberapa.sering.anda.menggunakan.bahasa.pemrograman.C.                                             0.94\n",
       "Seberapa.tahukah.anda.tentang.bahasa.permograman.Java.                                             0.95\n",
       "Pernahkah.anda.membuat.program.menggunakan.bahasa.pemrograman.Python.                              0.93\n",
       "Seberapa.tahukah.anda.tentang.Pemrograman.Interface..API..                                         0.94\n",
       "Seberapa.tahukah.anda.tentang.Pemrograman.Berorientasi.Objek..OOP..                                0.94\n",
       "Seberapa.sering.anda.menggunakan.programming.software.bajakan.                                     0.94\n",
       "Seberapa.perlunya.dokumen.manual.tutorial.ketika.membuat.program.                                  0.97\n",
       "Pernakah.anda.melakukan.trial.dan.error.atau.mengembangkan.program.yang.dibuat.orang.lain.         0.93\n",
       "Seberapa.seringkah.anda.menggunakan.Extension.saat.membuat.program.                                0.94\n",
       "Seberapa.sering.anda.mengelola..menginstal.menghapus.menonaktifkan.instalasi..Extension.anda.      0.94\n",
       "Apakah.anda.sering.menggunakan.Extension.berbayar.                                                 0.93\n",
       "Apakah.anda.sering.menggunakan.Auto.Indent.Extension.                                              0.93\n",
       "                                                                                              G6(smc)\n",
       "Seberapa.sering.anda.menggunakan.bahasa.pemrograman.C.                                           1.00\n",
       "Seberapa.tahukah.anda.tentang.bahasa.permograman.Java.                                           1.00\n",
       "Pernahkah.anda.membuat.program.menggunakan.bahasa.pemrograman.Python.                            1.00\n",
       "Seberapa.tahukah.anda.tentang.Pemrograman.Interface..API..                                       1.00\n",
       "Seberapa.tahukah.anda.tentang.Pemrograman.Berorientasi.Objek..OOP..                              0.99\n",
       "Seberapa.sering.anda.menggunakan.programming.software.bajakan.                                   1.00\n",
       "Seberapa.perlunya.dokumen.manual.tutorial.ketika.membuat.program.                                1.00\n",
       "Pernakah.anda.melakukan.trial.dan.error.atau.mengembangkan.program.yang.dibuat.orang.lain.       1.00\n",
       "Seberapa.seringkah.anda.menggunakan.Extension.saat.membuat.program.                              1.00\n",
       "Seberapa.sering.anda.mengelola..menginstal.menghapus.menonaktifkan.instalasi..Extension.anda.    1.00\n",
       "Apakah.anda.sering.menggunakan.Extension.berbayar.                                               1.00\n",
       "Apakah.anda.sering.menggunakan.Auto.Indent.Extension.                                            1.00\n",
       "                                                                                              average_r\n",
       "Seberapa.sering.anda.menggunakan.bahasa.pemrograman.C.                                             0.59\n",
       "Seberapa.tahukah.anda.tentang.bahasa.permograman.Java.                                             0.63\n",
       "Pernahkah.anda.membuat.program.menggunakan.bahasa.pemrograman.Python.                              0.56\n",
       "Seberapa.tahukah.anda.tentang.Pemrograman.Interface..API..                                         0.61\n",
       "Seberapa.tahukah.anda.tentang.Pemrograman.Berorientasi.Objek..OOP..                                0.60\n",
       "Seberapa.sering.anda.menggunakan.programming.software.bajakan.                                     0.58\n",
       "Seberapa.perlunya.dokumen.manual.tutorial.ketika.membuat.program.                                  0.74\n",
       "Pernakah.anda.melakukan.trial.dan.error.atau.mengembangkan.program.yang.dibuat.orang.lain.         0.57\n",
       "Seberapa.seringkah.anda.menggunakan.Extension.saat.membuat.program.                                0.57\n",
       "Seberapa.sering.anda.mengelola..menginstal.menghapus.menonaktifkan.instalasi..Extension.anda.      0.57\n",
       "Apakah.anda.sering.menggunakan.Extension.berbayar.                                                 0.56\n",
       "Apakah.anda.sering.menggunakan.Auto.Indent.Extension.                                              0.56\n",
       "                                                                                              S/N\n",
       "Seberapa.sering.anda.menggunakan.bahasa.pemrograman.C.                                         16\n",
       "Seberapa.tahukah.anda.tentang.bahasa.permograman.Java.                                         19\n",
       "Pernahkah.anda.membuat.program.menggunakan.bahasa.pemrograman.Python.                          14\n",
       "Seberapa.tahukah.anda.tentang.Pemrograman.Interface..API..                                     17\n",
       "Seberapa.tahukah.anda.tentang.Pemrograman.Berorientasi.Objek..OOP..                            17\n",
       "Seberapa.sering.anda.menggunakan.programming.software.bajakan.                                 15\n",
       "Seberapa.perlunya.dokumen.manual.tutorial.ketika.membuat.program.                              31\n",
       "Pernakah.anda.melakukan.trial.dan.error.atau.mengembangkan.program.yang.dibuat.orang.lain.     14\n",
       "Seberapa.seringkah.anda.menggunakan.Extension.saat.membuat.program.                            14\n",
       "Seberapa.sering.anda.mengelola..menginstal.menghapus.menonaktifkan.instalasi..Extension.anda.  15\n",
       "Apakah.anda.sering.menggunakan.Extension.berbayar.                                             14\n",
       "Apakah.anda.sering.menggunakan.Auto.Indent.Extension.                                          14\n",
       "                                                                                              var.r\n",
       "Seberapa.sering.anda.menggunakan.bahasa.pemrograman.C.                                        0.167\n",
       "Seberapa.tahukah.anda.tentang.bahasa.permograman.Java.                                        0.170\n",
       "Pernahkah.anda.membuat.program.menggunakan.bahasa.pemrograman.Python.                         0.172\n",
       "Seberapa.tahukah.anda.tentang.Pemrograman.Interface..API..                                    0.178\n",
       "Seberapa.tahukah.anda.tentang.Pemrograman.Berorientasi.Objek..OOP..                           0.178\n",
       "Seberapa.sering.anda.menggunakan.programming.software.bajakan.                                0.164\n",
       "Seberapa.perlunya.dokumen.manual.tutorial.ketika.membuat.program.                             0.065\n",
       "Pernakah.anda.melakukan.trial.dan.error.atau.mengembangkan.program.yang.dibuat.orang.lain.    0.168\n",
       "Seberapa.seringkah.anda.menggunakan.Extension.saat.membuat.program.                           0.167\n",
       "Seberapa.sering.anda.mengelola..menginstal.menghapus.menonaktifkan.instalasi..Extension.anda. 0.166\n",
       "Apakah.anda.sering.menggunakan.Extension.berbayar.                                            0.170\n",
       "Apakah.anda.sering.menggunakan.Auto.Indent.Extension.                                         0.170\n",
       "                                                                                              med.r\n",
       "Seberapa.sering.anda.menggunakan.bahasa.pemrograman.C.                                         0.63\n",
       "Seberapa.tahukah.anda.tentang.bahasa.permograman.Java.                                         0.85\n",
       "Pernahkah.anda.membuat.program.menggunakan.bahasa.pemrograman.Python.                          0.62\n",
       "Seberapa.tahukah.anda.tentang.Pemrograman.Interface..API..                                     0.85\n",
       "Seberapa.tahukah.anda.tentang.Pemrograman.Berorientasi.Objek..OOP..                            0.85\n",
       "Seberapa.sering.anda.menggunakan.programming.software.bajakan.                                 0.63\n",
       "Seberapa.perlunya.dokumen.manual.tutorial.ketika.membuat.program.                              0.87\n",
       "Pernakah.anda.melakukan.trial.dan.error.atau.mengembangkan.program.yang.dibuat.orang.lain.     0.63\n",
       "Seberapa.seringkah.anda.menggunakan.Extension.saat.membuat.program.                            0.63\n",
       "Seberapa.sering.anda.mengelola..menginstal.menghapus.menonaktifkan.instalasi..Extension.anda.  0.63\n",
       "Apakah.anda.sering.menggunakan.Extension.berbayar.                                             0.62\n",
       "Apakah.anda.sering.menggunakan.Auto.Indent.Extension.                                          0.62\n",
       "\n",
       " Item statistics \n",
       "                                                                                               n\n",
       "Seberapa.sering.anda.menggunakan.bahasa.pemrograman.C.                                        12\n",
       "Seberapa.tahukah.anda.tentang.bahasa.permograman.Java.                                        12\n",
       "Pernahkah.anda.membuat.program.menggunakan.bahasa.pemrograman.Python.                         12\n",
       "Seberapa.tahukah.anda.tentang.Pemrograman.Interface..API..                                    12\n",
       "Seberapa.tahukah.anda.tentang.Pemrograman.Berorientasi.Objek..OOP..                           12\n",
       "Seberapa.sering.anda.menggunakan.programming.software.bajakan.                                12\n",
       "Seberapa.perlunya.dokumen.manual.tutorial.ketika.membuat.program.                             12\n",
       "Pernakah.anda.melakukan.trial.dan.error.atau.mengembangkan.program.yang.dibuat.orang.lain.    12\n",
       "Seberapa.seringkah.anda.menggunakan.Extension.saat.membuat.program.                           12\n",
       "Seberapa.sering.anda.mengelola..menginstal.menghapus.menonaktifkan.instalasi..Extension.anda. 12\n",
       "Apakah.anda.sering.menggunakan.Extension.berbayar.                                            12\n",
       "Apakah.anda.sering.menggunakan.Auto.Indent.Extension.                                         12\n",
       "                                                                                               raw.r\n",
       "Seberapa.sering.anda.menggunakan.bahasa.pemrograman.C.                                         0.843\n",
       "Seberapa.tahukah.anda.tentang.bahasa.permograman.Java.                                         0.581\n",
       "Pernahkah.anda.membuat.program.menggunakan.bahasa.pemrograman.Python.                          0.975\n",
       "Seberapa.tahukah.anda.tentang.Pemrograman.Interface..API..                                     0.714\n",
       "Seberapa.tahukah.anda.tentang.Pemrograman.Berorientasi.Objek..OOP..                            0.719\n",
       "Seberapa.sering.anda.menggunakan.programming.software.bajakan.                                 0.899\n",
       "Seberapa.perlunya.dokumen.manual.tutorial.ketika.membuat.program.                             -0.058\n",
       "Pernakah.anda.melakukan.trial.dan.error.atau.mengembangkan.program.yang.dibuat.orang.lain.     0.972\n",
       "Seberapa.seringkah.anda.menggunakan.Extension.saat.membuat.program.                            0.963\n",
       "Seberapa.sering.anda.mengelola..menginstal.menghapus.menonaktifkan.instalasi..Extension.anda.  0.930\n",
       "Apakah.anda.sering.menggunakan.Extension.berbayar.                                             0.986\n",
       "Apakah.anda.sering.menggunakan.Auto.Indent.Extension.                                          0.987\n",
       "                                                                                               std.r\n",
       "Seberapa.sering.anda.menggunakan.bahasa.pemrograman.C.                                         0.833\n",
       "Seberapa.tahukah.anda.tentang.bahasa.permograman.Java.                                         0.606\n",
       "Pernahkah.anda.membuat.program.menggunakan.bahasa.pemrograman.Python.                          0.969\n",
       "Seberapa.tahukah.anda.tentang.Pemrograman.Interface..API..                                     0.734\n",
       "Seberapa.tahukah.anda.tentang.Pemrograman.Berorientasi.Objek..OOP..                            0.738\n",
       "Seberapa.sering.anda.menggunakan.programming.software.bajakan.                                 0.887\n",
       "Seberapa.perlunya.dokumen.manual.tutorial.ketika.membuat.program.                             -0.052\n",
       "Pernakah.anda.melakukan.trial.dan.error.atau.mengembangkan.program.yang.dibuat.orang.lain.     0.964\n",
       "Seberapa.seringkah.anda.menggunakan.Extension.saat.membuat.program.                            0.956\n",
       "Seberapa.sering.anda.mengelola..menginstal.menghapus.menonaktifkan.instalasi..Extension.anda.  0.921\n",
       "Apakah.anda.sering.menggunakan.Extension.berbayar.                                             0.979\n",
       "Apakah.anda.sering.menggunakan.Auto.Indent.Extension.                                          0.980\n",
       "                                                                                               r.cor\n",
       "Seberapa.sering.anda.menggunakan.bahasa.pemrograman.C.                                         0.834\n",
       "Seberapa.tahukah.anda.tentang.bahasa.permograman.Java.                                         0.607\n",
       "Pernahkah.anda.membuat.program.menggunakan.bahasa.pemrograman.Python.                          0.971\n",
       "Seberapa.tahukah.anda.tentang.Pemrograman.Interface..API..                                     0.735\n",
       "Seberapa.tahukah.anda.tentang.Pemrograman.Berorientasi.Objek..OOP..                            0.739\n",
       "Seberapa.sering.anda.menggunakan.programming.software.bajakan.                                 0.889\n",
       "Seberapa.perlunya.dokumen.manual.tutorial.ketika.membuat.program.                             -0.086\n",
       "Pernakah.anda.melakukan.trial.dan.error.atau.mengembangkan.program.yang.dibuat.orang.lain.     0.965\n",
       "Seberapa.seringkah.anda.menggunakan.Extension.saat.membuat.program.                            0.957\n",
       "Seberapa.sering.anda.mengelola..menginstal.menghapus.menonaktifkan.instalasi..Extension.anda.  0.922\n",
       "Apakah.anda.sering.menggunakan.Extension.berbayar.                                             0.981\n",
       "Apakah.anda.sering.menggunakan.Auto.Indent.Extension.                                          0.982\n",
       "                                                                                              r.drop\n",
       "Seberapa.sering.anda.menggunakan.bahasa.pemrograman.C.                                          0.81\n",
       "Seberapa.tahukah.anda.tentang.bahasa.permograman.Java.                                          0.52\n",
       "Pernahkah.anda.membuat.program.menggunakan.bahasa.pemrograman.Python.                           0.97\n",
       "Seberapa.tahukah.anda.tentang.Pemrograman.Interface..API..                                      0.66\n",
       "Seberapa.tahukah.anda.tentang.Pemrograman.Berorientasi.Objek..OOP..                             0.67\n",
       "Seberapa.sering.anda.menggunakan.programming.software.bajakan.                                  0.88\n",
       "Seberapa.perlunya.dokumen.manual.tutorial.ketika.membuat.program.                              -0.14\n",
       "Pernakah.anda.melakukan.trial.dan.error.atau.mengembangkan.program.yang.dibuat.orang.lain.      0.96\n",
       "Seberapa.seringkah.anda.menggunakan.Extension.saat.membuat.program.                             0.95\n",
       "Seberapa.sering.anda.mengelola..menginstal.menghapus.menonaktifkan.instalasi..Extension.anda.   0.91\n",
       "Apakah.anda.sering.menggunakan.Extension.berbayar.                                              0.98\n",
       "Apakah.anda.sering.menggunakan.Auto.Indent.Extension.                                           0.98\n",
       "                                                                                              mean\n",
       "Seberapa.sering.anda.menggunakan.bahasa.pemrograman.C.                                          42\n",
       "Seberapa.tahukah.anda.tentang.bahasa.permograman.Java.                                          42\n",
       "Pernahkah.anda.membuat.program.menggunakan.bahasa.pemrograman.Python.                           42\n",
       "Seberapa.tahukah.anda.tentang.Pemrograman.Interface..API..                                      42\n",
       "Seberapa.tahukah.anda.tentang.Pemrograman.Berorientasi.Objek..OOP..                             42\n",
       "Seberapa.sering.anda.menggunakan.programming.software.bajakan.                                  42\n",
       "Seberapa.perlunya.dokumen.manual.tutorial.ketika.membuat.program.                               42\n",
       "Pernakah.anda.melakukan.trial.dan.error.atau.mengembangkan.program.yang.dibuat.orang.lain.      42\n",
       "Seberapa.seringkah.anda.menggunakan.Extension.saat.membuat.program.                             42\n",
       "Seberapa.sering.anda.mengelola..menginstal.menghapus.menonaktifkan.instalasi..Extension.anda.   42\n",
       "Apakah.anda.sering.menggunakan.Extension.berbayar.                                              42\n",
       "Apakah.anda.sering.menggunakan.Auto.Indent.Extension.                                           42\n",
       "                                                                                              sd\n",
       "Seberapa.sering.anda.menggunakan.bahasa.pemrograman.C.                                        72\n",
       "Seberapa.tahukah.anda.tentang.bahasa.permograman.Java.                                        66\n",
       "Pernahkah.anda.membuat.program.menggunakan.bahasa.pemrograman.Python.                         98\n",
       "Seberapa.tahukah.anda.tentang.Pemrograman.Interface..API..                                    71\n",
       "Seberapa.tahukah.anda.tentang.Pemrograman.Berorientasi.Objek..OOP..                           68\n",
       "Seberapa.sering.anda.menggunakan.programming.software.bajakan.                                67\n",
       "Seberapa.perlunya.dokumen.manual.tutorial.ketika.membuat.program.                             68\n",
       "Pernakah.anda.melakukan.trial.dan.error.atau.mengembangkan.program.yang.dibuat.orang.lain.    84\n",
       "Seberapa.seringkah.anda.menggunakan.Extension.saat.membuat.program.                           83\n",
       "Seberapa.sering.anda.mengelola..menginstal.menghapus.menonaktifkan.instalasi..Extension.anda. 75\n",
       "Apakah.anda.sering.menggunakan.Extension.berbayar.                                            97\n",
       "Apakah.anda.sering.menggunakan.Auto.Indent.Extension.                                         97"
      ]
     },
     "metadata": {},
     "output_type": "display_data"
    }
   ],
   "source": [
    "alpha(mydata)"
   ]
  },
  {
   "cell_type": "code",
   "execution_count": 14,
   "metadata": {},
   "outputs": [
    {
     "data": {
      "text/html": [
       "<ol class=list-inline>\n",
       "\t<li>'Pilihan.Jawaban'</li>\n",
       "\t<li>'Seberapa.sering.anda.menggunakan.bahasa.pemrograman.C.'</li>\n",
       "\t<li>'Seberapa.tahukah.anda.tentang.bahasa.permograman.Java.'</li>\n",
       "\t<li>'Pernahkah.anda.membuat.program.menggunakan.bahasa.pemrograman.Python.'</li>\n",
       "\t<li>'Seberapa.tahukah.anda.tentang.Pemrograman.Interface..API..'</li>\n",
       "\t<li>'Seberapa.tahukah.anda.tentang.Pemrograman.Berorientasi.Objek..OOP..'</li>\n",
       "\t<li>'Seberapa.sering.anda.menggunakan.programming.software.bajakan.'</li>\n",
       "\t<li>'Seberapa.perlunya.dokumen.manual.tutorial.ketika.membuat.program.'</li>\n",
       "\t<li>'Pernakah.anda.melakukan.trial.dan.error.atau.mengembangkan.program.yang.dibuat.orang.lain.'</li>\n",
       "\t<li>'Seberapa.seringkah.anda.menggunakan.Extension.saat.membuat.program.'</li>\n",
       "\t<li>'Seberapa.sering.anda.mengelola..menginstal.menghapus.menonaktifkan.instalasi..Extension.anda.'</li>\n",
       "\t<li>'Apakah.anda.sering.menggunakan.Extension.berbayar.'</li>\n",
       "\t<li>'Apakah.anda.sering.menggunakan.Auto.Indent.Extension.'</li>\n",
       "</ol>\n"
      ],
      "text/latex": [
       "\\begin{enumerate*}\n",
       "\\item 'Pilihan.Jawaban'\n",
       "\\item 'Seberapa.sering.anda.menggunakan.bahasa.pemrograman.C.'\n",
       "\\item 'Seberapa.tahukah.anda.tentang.bahasa.permograman.Java.'\n",
       "\\item 'Pernahkah.anda.membuat.program.menggunakan.bahasa.pemrograman.Python.'\n",
       "\\item 'Seberapa.tahukah.anda.tentang.Pemrograman.Interface..API..'\n",
       "\\item 'Seberapa.tahukah.anda.tentang.Pemrograman.Berorientasi.Objek..OOP..'\n",
       "\\item 'Seberapa.sering.anda.menggunakan.programming.software.bajakan.'\n",
       "\\item 'Seberapa.perlunya.dokumen.manual.tutorial.ketika.membuat.program.'\n",
       "\\item 'Pernakah.anda.melakukan.trial.dan.error.atau.mengembangkan.program.yang.dibuat.orang.lain.'\n",
       "\\item 'Seberapa.seringkah.anda.menggunakan.Extension.saat.membuat.program.'\n",
       "\\item 'Seberapa.sering.anda.mengelola..menginstal.menghapus.menonaktifkan.instalasi..Extension.anda.'\n",
       "\\item 'Apakah.anda.sering.menggunakan.Extension.berbayar.'\n",
       "\\item 'Apakah.anda.sering.menggunakan.Auto.Indent.Extension.'\n",
       "\\end{enumerate*}\n"
      ],
      "text/markdown": [
       "1. 'Pilihan.Jawaban'\n",
       "2. 'Seberapa.sering.anda.menggunakan.bahasa.pemrograman.C.'\n",
       "3. 'Seberapa.tahukah.anda.tentang.bahasa.permograman.Java.'\n",
       "4. 'Pernahkah.anda.membuat.program.menggunakan.bahasa.pemrograman.Python.'\n",
       "5. 'Seberapa.tahukah.anda.tentang.Pemrograman.Interface..API..'\n",
       "6. 'Seberapa.tahukah.anda.tentang.Pemrograman.Berorientasi.Objek..OOP..'\n",
       "7. 'Seberapa.sering.anda.menggunakan.programming.software.bajakan.'\n",
       "8. 'Seberapa.perlunya.dokumen.manual.tutorial.ketika.membuat.program.'\n",
       "9. 'Pernakah.anda.melakukan.trial.dan.error.atau.mengembangkan.program.yang.dibuat.orang.lain.'\n",
       "10. 'Seberapa.seringkah.anda.menggunakan.Extension.saat.membuat.program.'\n",
       "11. 'Seberapa.sering.anda.mengelola..menginstal.menghapus.menonaktifkan.instalasi..Extension.anda.'\n",
       "12. 'Apakah.anda.sering.menggunakan.Extension.berbayar.'\n",
       "13. 'Apakah.anda.sering.menggunakan.Auto.Indent.Extension.'\n",
       "\n",
       "\n"
      ],
      "text/plain": [
       " [1] \"Pilihan.Jawaban\"                                                                              \n",
       " [2] \"Seberapa.sering.anda.menggunakan.bahasa.pemrograman.C.\"                                       \n",
       " [3] \"Seberapa.tahukah.anda.tentang.bahasa.permograman.Java.\"                                       \n",
       " [4] \"Pernahkah.anda.membuat.program.menggunakan.bahasa.pemrograman.Python.\"                        \n",
       " [5] \"Seberapa.tahukah.anda.tentang.Pemrograman.Interface..API..\"                                   \n",
       " [6] \"Seberapa.tahukah.anda.tentang.Pemrograman.Berorientasi.Objek..OOP..\"                          \n",
       " [7] \"Seberapa.sering.anda.menggunakan.programming.software.bajakan.\"                               \n",
       " [8] \"Seberapa.perlunya.dokumen.manual.tutorial.ketika.membuat.program.\"                            \n",
       " [9] \"Pernakah.anda.melakukan.trial.dan.error.atau.mengembangkan.program.yang.dibuat.orang.lain.\"   \n",
       "[10] \"Seberapa.seringkah.anda.menggunakan.Extension.saat.membuat.program.\"                          \n",
       "[11] \"Seberapa.sering.anda.mengelola..menginstal.menghapus.menonaktifkan.instalasi..Extension.anda.\"\n",
       "[12] \"Apakah.anda.sering.menggunakan.Extension.berbayar.\"                                           \n",
       "[13] \"Apakah.anda.sering.menggunakan.Auto.Indent.Extension.\"                                        "
      ]
     },
     "metadata": {},
     "output_type": "display_data"
    }
   ],
   "source": [
    "names(mydata)"
   ]
  },
  {
   "cell_type": "markdown",
   "metadata": {},
   "source": [
    "# T-Test\n"
   ]
  },
  {
   "cell_type": "code",
   "execution_count": 30,
   "metadata": {},
   "outputs": [
    {
     "data": {
      "text/plain": [
       "\n",
       "\tOne Sample t-test\n",
       "\n",
       "data:  Seberapa.sering.anda.menggunakan.bahasa.pemrograman.C.\n",
       "t = 2.0077, df = 11, p-value = 0.9651\n",
       "alternative hypothesis: true mean is less than 0\n",
       "95 percent confidence interval:\n",
       "     -Inf 78.93731\n",
       "sample estimates:\n",
       "mean of x \n",
       " 41.66667 \n"
      ]
     },
     "metadata": {},
     "output_type": "display_data"
    }
   ],
   "source": [
    "t.test(Seberapa.sering.anda.menggunakan.bahasa.pemrograman.C., u=8, alternative=\"less\", conf.level=.95)"
   ]
  },
  {
   "cell_type": "code",
   "execution_count": 35,
   "metadata": {},
   "outputs": [
    {
     "data": {
      "text/plain": [
       "\n",
       "\tOne Sample t-test\n",
       "\n",
       "data:  Seberapa.tahukah.anda.tentang.bahasa.permograman.Java.\n",
       "t = 2.1964, df = 11, p-value = 0.9748\n",
       "alternative hypothesis: true mean is less than 0\n",
       "95 percent confidence interval:\n",
       "     -Inf 75.73497\n",
       "sample estimates:\n",
       "mean of x \n",
       " 41.66667 \n"
      ]
     },
     "metadata": {},
     "output_type": "display_data"
    }
   ],
   "source": [
    "t.test(Seberapa.tahukah.anda.tentang.bahasa.permograman.Java., u=8, alternative=\"less\", conf.level=.95)"
   ]
  },
  {
   "cell_type": "code",
   "execution_count": 36,
   "metadata": {},
   "outputs": [
    {
     "data": {
      "text/plain": [
       "\n",
       "\tOne Sample t-test\n",
       "\n",
       "data:  Pernahkah.anda.membuat.program.menggunakan.bahasa.pemrograman.Python.\n",
       "t = 1.4659, df = 11, p-value = 0.9147\n",
       "alternative hypothesis: true mean is less than 0\n",
       "95 percent confidence interval:\n",
       "     -Inf 92.71451\n",
       "sample estimates:\n",
       "mean of x \n",
       " 41.66667 \n"
      ]
     },
     "metadata": {},
     "output_type": "display_data"
    }
   ],
   "source": [
    "t.test(Pernahkah.anda.membuat.program.menggunakan.bahasa.pemrograman.Python., u=8, alternative=\"less\", conf.level=.95)"
   ]
  },
  {
   "cell_type": "code",
   "execution_count": 37,
   "metadata": {},
   "outputs": [
    {
     "data": {
      "text/plain": [
       "\n",
       "\tOne Sample t-test\n",
       "\n",
       "data:  Seberapa.tahukah.anda.tentang.Pemrograman.Interface..API..\n",
       "t = 2.0382, df = 11, p-value = 0.9668\n",
       "alternative hypothesis: true mean is less than 0\n",
       "95 percent confidence interval:\n",
       "     -Inf 78.37918\n",
       "sample estimates:\n",
       "mean of x \n",
       " 41.66667 \n"
      ]
     },
     "metadata": {},
     "output_type": "display_data"
    }
   ],
   "source": [
    "t.test(Seberapa.tahukah.anda.tentang.Pemrograman.Interface..API.., u=8, alternative=\"less\", conf.level=.95)"
   ]
  },
  {
   "cell_type": "code",
   "execution_count": 38,
   "metadata": {},
   "outputs": [
    {
     "data": {
      "text/plain": [
       "\n",
       "\tOne Sample t-test\n",
       "\n",
       "data:  Seberapa.tahukah.anda.tentang.Pemrograman.Berorientasi.Objek..OOP..\n",
       "t = 2.135, df = 11, p-value = 0.972\n",
       "alternative hypothesis: true mean is less than 0\n",
       "95 percent confidence interval:\n",
       "    -Inf 76.7156\n",
       "sample estimates:\n",
       "mean of x \n",
       " 41.66667 \n"
      ]
     },
     "metadata": {},
     "output_type": "display_data"
    }
   ],
   "source": [
    "t.test(Seberapa.tahukah.anda.tentang.Pemrograman.Berorientasi.Objek..OOP.., u=8, alternative=\"less\", conf.level=.95)"
   ]
  },
  {
   "cell_type": "code",
   "execution_count": 39,
   "metadata": {},
   "outputs": [
    {
     "data": {
      "text/plain": [
       "\n",
       "\tOne Sample t-test\n",
       "\n",
       "data:  Seberapa.sering.anda.menggunakan.programming.software.bajakan.\n",
       "t = 2.1564, df = 11, p-value = 0.973\n",
       "alternative hypothesis: true mean is less than 0\n",
       "95 percent confidence interval:\n",
       "    -Inf 76.3681\n",
       "sample estimates:\n",
       "mean of x \n",
       " 41.66667 \n"
      ]
     },
     "metadata": {},
     "output_type": "display_data"
    }
   ],
   "source": [
    "t.test(Seberapa.sering.anda.menggunakan.programming.software.bajakan., u=8, alternative=\"less\", conf.level=.95)"
   ]
  },
  {
   "cell_type": "code",
   "execution_count": 42,
   "metadata": {},
   "outputs": [
    {
     "data": {
      "text/plain": [
       "\n",
       "\tOne Sample t-test\n",
       "\n",
       "data:  Seberapa.perlunya.dokumen.manual.tutorial.ketika.membuat.program.\n",
       "t = 2.1326, df = 11, p-value = 0.9718\n",
       "alternative hypothesis: true mean is less than 0\n",
       "95 percent confidence interval:\n",
       "     -Inf 76.75461\n",
       "sample estimates:\n",
       "mean of x \n",
       " 41.66667 \n"
      ]
     },
     "metadata": {},
     "output_type": "display_data"
    }
   ],
   "source": [
    "t.test(Seberapa.perlunya.dokumen.manual.tutorial.ketika.membuat.program., u=8, alternative=\"less\", conf.level=.95)"
   ]
  },
  {
   "cell_type": "code",
   "execution_count": 41,
   "metadata": {},
   "outputs": [
    {
     "data": {
      "text/plain": [
       "\n",
       "\tOne Sample t-test\n",
       "\n",
       "data:  Pernakah.anda.melakukan.trial.dan.error.atau.mengembangkan.program.yang.dibuat.orang.lain.\n",
       "t = 1.7238, df = 11, p-value = 0.9437\n",
       "alternative hypothesis: true mean is less than 0\n",
       "95 percent confidence interval:\n",
       "     -Inf 85.07594\n",
       "sample estimates:\n",
       "mean of x \n",
       " 41.66667 \n"
      ]
     },
     "metadata": {},
     "output_type": "display_data"
    }
   ],
   "source": [
    "t.test(Pernakah.anda.melakukan.trial.dan.error.atau.mengembangkan.program.yang.dibuat.orang.lain., u=8, alternative=\"less\", conf.level=.95)"
   ]
  },
  {
   "cell_type": "code",
   "execution_count": 43,
   "metadata": {},
   "outputs": [
    {
     "data": {
      "text/plain": [
       "\n",
       "\tOne Sample t-test\n",
       "\n",
       "data:  Seberapa.seringkah.anda.menggunakan.Extension.saat.membuat.program.\n",
       "t = 1.7392, df = 11, p-value = 0.9451\n",
       "alternative hypothesis: true mean is less than 0\n",
       "95 percent confidence interval:\n",
       "     -Inf 84.69206\n",
       "sample estimates:\n",
       "mean of x \n",
       " 41.66667 \n"
      ]
     },
     "metadata": {},
     "output_type": "display_data"
    }
   ],
   "source": [
    "t.test(Seberapa.seringkah.anda.menggunakan.Extension.saat.membuat.program., u=8, alternative=\"less\", conf.level=.95)"
   ]
  },
  {
   "cell_type": "code",
   "execution_count": 44,
   "metadata": {},
   "outputs": [
    {
     "data": {
      "text/plain": [
       "\n",
       "\tOne Sample t-test\n",
       "\n",
       "data:  Seberapa.sering.anda.mengelola..menginstal.menghapus.menonaktifkan.instalasi..Extension.anda.\n",
       "t = 1.9132, df = 11, p-value = 0.959\n",
       "alternative hypothesis: true mean is less than 0\n",
       "95 percent confidence interval:\n",
       "     -Inf 80.77855\n",
       "sample estimates:\n",
       "mean of x \n",
       " 41.66667 \n"
      ]
     },
     "metadata": {},
     "output_type": "display_data"
    }
   ],
   "source": [
    "t.test(Seberapa.sering.anda.mengelola..menginstal.menghapus.menonaktifkan.instalasi..Extension.anda., u=8, alternative=\"less\", conf.level=.95)"
   ]
  },
  {
   "cell_type": "code",
   "execution_count": 45,
   "metadata": {},
   "outputs": [
    {
     "data": {
      "text/plain": [
       "\n",
       "\tOne Sample t-test\n",
       "\n",
       "data:  Apakah.anda.sering.menggunakan.Extension.berbayar.\n",
       "t = 1.4878, df = 11, p-value = 0.9176\n",
       "alternative hypothesis: true mean is less than 0\n",
       "95 percent confidence interval:\n",
       "     -Inf 91.96132\n",
       "sample estimates:\n",
       "mean of x \n",
       " 41.66667 \n"
      ]
     },
     "metadata": {},
     "output_type": "display_data"
    }
   ],
   "source": [
    "t.test(Apakah.anda.sering.menggunakan.Extension.berbayar., u=8, alternative=\"less\", conf.level=.95)"
   ]
  },
  {
   "cell_type": "code",
   "execution_count": 27,
   "metadata": {},
   "outputs": [
    {
     "ename": "ERROR",
     "evalue": "Error in t.test(Apakah.anda.sering.menggunakan.Auto.Indent.Extension., : object 'Apakah.anda.sering.menggunakan.Auto.Indent.Extension.' not found\n",
     "output_type": "error",
     "traceback": [
      "Error in t.test(Apakah.anda.sering.menggunakan.Auto.Indent.Extension., : object 'Apakah.anda.sering.menggunakan.Auto.Indent.Extension.' not found\nTraceback:\n",
      "1. t.test(Apakah.anda.sering.menggunakan.Auto.Indent.Extension., \n .     u = 8, alternative = \"less\", conf.level = 0.95)"
     ]
    }
   ],
   "source": [
    "t.test(Apakah.anda.sering.menggunakan.Auto.Indent.Extension., u=8, alternative=\"less\", conf.level=.95)"
   ]
  },
  {
   "cell_type": "markdown",
   "metadata": {},
   "source": [
    "# Principal Component Analysis"
   ]
  },
  {
   "cell_type": "code",
   "execution_count": 41,
   "metadata": {},
   "outputs": [
    {
     "data": {
      "text/html": [
       "<table>\n",
       "<thead><tr><th></th><th scope=col>Pilihan.Jawaban</th><th scope=col>Seberapa.sering.anda.menggunakan.bahasa.pemrograman.C.</th><th scope=col>Seberapa.tahukah.anda.tentang.bahasa.permograman.Java.</th><th scope=col>Pernahkah.anda.membuat.program.menggunakan.bahasa.pemrograman.Python.</th><th scope=col>Seberapa.tahukah.anda.tentang.Pemrograman.Interface..API..</th><th scope=col>Seberapa.tahukah.anda.tentang.Pemrograman.Berorientasi.Objek..OOP..</th><th scope=col>Seberapa.sering.anda.menggunakan.programming.software.bajakan.</th><th scope=col>Seberapa.perlunya.dokumen.manual.tutorial.ketika.membuat.program.</th><th scope=col>Pernakah.anda.melakukan.trial.dan.error.atau.mengembangkan.program.yang.dibuat.orang.lain.</th><th scope=col>Seberapa.seringkah.anda.menggunakan.Extension.saat.membuat.program.</th><th scope=col>Seberapa.sering.anda.mengelola..menginstal.menghapus.menonaktifkan.instalasi..Extension.anda.</th><th scope=col>Apakah.anda.sering.menggunakan.Extension.berbayar.</th><th scope=col>Apakah.anda.sering.menggunakan.Auto.Indent.Extension.</th></tr></thead>\n",
       "<tbody>\n",
       "\t<tr><th scope=row>7</th><td>Tahu             </td><td>0                </td><td> 69              </td><td>0                </td><td> 49              </td><td> 64              </td><td>0                </td><td>  0              </td><td>0                </td><td>0                </td><td>0                </td><td>0                </td><td>0                </td></tr>\n",
       "\t<tr><th scope=row>8</th><td>Ragu-Ragu        </td><td>0                </td><td> 87              </td><td>0                </td><td> 75              </td><td> 70              </td><td>0                </td><td> 51              </td><td>0                </td><td>0                </td><td>0                </td><td>0                </td><td>0                </td></tr>\n",
       "\t<tr><th scope=row>9</th><td>Kurang Tahu      </td><td>0                </td><td>175              </td><td>0                </td><td>167              </td><td>153              </td><td>0                </td><td>  0              </td><td>0                </td><td>0                </td><td>0                </td><td>0                </td><td>0                </td></tr>\n",
       "\t<tr><th scope=row>10</th><td>Sangat Dibutuhkan</td><td>0                </td><td>  0              </td><td>0                </td><td>  0              </td><td>  0              </td><td>0                </td><td>172              </td><td>0                </td><td>0                </td><td>0                </td><td>0                </td><td>0                </td></tr>\n",
       "\t<tr><th scope=row>11</th><td>Dibutuhkan       </td><td>0                </td><td>  0              </td><td>0                </td><td>  0              </td><td>  0              </td><td>0                </td><td>187              </td><td>0                </td><td>0                </td><td>0                </td><td>0                </td><td>0                </td></tr>\n",
       "\t<tr><th scope=row>12</th><td>Kurang Dibutukan </td><td>0                </td><td>  0              </td><td>0                </td><td>  0              </td><td>  0              </td><td>0                </td><td> 42              </td><td>0                </td><td>0                </td><td>0                </td><td>0                </td><td>0                </td></tr>\n",
       "</tbody>\n",
       "</table>\n"
      ],
      "text/latex": [
       "\\begin{tabular}{r|lllllllllllll}\n",
       "  & Pilihan.Jawaban & Seberapa.sering.anda.menggunakan.bahasa.pemrograman.C. & Seberapa.tahukah.anda.tentang.bahasa.permograman.Java. & Pernahkah.anda.membuat.program.menggunakan.bahasa.pemrograman.Python. & Seberapa.tahukah.anda.tentang.Pemrograman.Interface..API.. & Seberapa.tahukah.anda.tentang.Pemrograman.Berorientasi.Objek..OOP.. & Seberapa.sering.anda.menggunakan.programming.software.bajakan. & Seberapa.perlunya.dokumen.manual.tutorial.ketika.membuat.program. & Pernakah.anda.melakukan.trial.dan.error.atau.mengembangkan.program.yang.dibuat.orang.lain. & Seberapa.seringkah.anda.menggunakan.Extension.saat.membuat.program. & Seberapa.sering.anda.mengelola..menginstal.menghapus.menonaktifkan.instalasi..Extension.anda. & Apakah.anda.sering.menggunakan.Extension.berbayar. & Apakah.anda.sering.menggunakan.Auto.Indent.Extension.\\\\\n",
       "\\hline\n",
       "\t7 & Tahu              & 0                 &  69               & 0                 &  49               &  64               & 0                 &   0               & 0                 & 0                 & 0                 & 0                 & 0                \\\\\n",
       "\t8 & Ragu-Ragu         & 0                 &  87               & 0                 &  75               &  70               & 0                 &  51               & 0                 & 0                 & 0                 & 0                 & 0                \\\\\n",
       "\t9 & Kurang Tahu       & 0                 & 175               & 0                 & 167               & 153               & 0                 &   0               & 0                 & 0                 & 0                 & 0                 & 0                \\\\\n",
       "\t10 & Sangat Dibutuhkan & 0                 &   0               & 0                 &   0               &   0               & 0                 & 172               & 0                 & 0                 & 0                 & 0                 & 0                \\\\\n",
       "\t11 & Dibutuhkan        & 0                 &   0               & 0                 &   0               &   0               & 0                 & 187               & 0                 & 0                 & 0                 & 0                 & 0                \\\\\n",
       "\t12 & Kurang Dibutukan  & 0                 &   0               & 0                 &   0               &   0               & 0                 &  42               & 0                 & 0                 & 0                 & 0                 & 0                \\\\\n",
       "\\end{tabular}\n"
      ],
      "text/markdown": [
       "\n",
       "| <!--/--> | Pilihan.Jawaban | Seberapa.sering.anda.menggunakan.bahasa.pemrograman.C. | Seberapa.tahukah.anda.tentang.bahasa.permograman.Java. | Pernahkah.anda.membuat.program.menggunakan.bahasa.pemrograman.Python. | Seberapa.tahukah.anda.tentang.Pemrograman.Interface..API.. | Seberapa.tahukah.anda.tentang.Pemrograman.Berorientasi.Objek..OOP.. | Seberapa.sering.anda.menggunakan.programming.software.bajakan. | Seberapa.perlunya.dokumen.manual.tutorial.ketika.membuat.program. | Pernakah.anda.melakukan.trial.dan.error.atau.mengembangkan.program.yang.dibuat.orang.lain. | Seberapa.seringkah.anda.menggunakan.Extension.saat.membuat.program. | Seberapa.sering.anda.mengelola..menginstal.menghapus.menonaktifkan.instalasi..Extension.anda. | Apakah.anda.sering.menggunakan.Extension.berbayar. | Apakah.anda.sering.menggunakan.Auto.Indent.Extension. |\n",
       "|---|---|---|---|---|---|---|---|---|---|---|---|---|---|\n",
       "| 7 | Tahu              | 0                 |  69               | 0                 |  49               |  64               | 0                 |   0               | 0                 | 0                 | 0                 | 0                 | 0                 |\n",
       "| 8 | Ragu-Ragu         | 0                 |  87               | 0                 |  75               |  70               | 0                 |  51               | 0                 | 0                 | 0                 | 0                 | 0                 |\n",
       "| 9 | Kurang Tahu       | 0                 | 175               | 0                 | 167               | 153               | 0                 |   0               | 0                 | 0                 | 0                 | 0                 | 0                 |\n",
       "| 10 | Sangat Dibutuhkan | 0                 |   0               | 0                 |   0               |   0               | 0                 | 172               | 0                 | 0                 | 0                 | 0                 | 0                 |\n",
       "| 11 | Dibutuhkan        | 0                 |   0               | 0                 |   0               |   0               | 0                 | 187               | 0                 | 0                 | 0                 | 0                 | 0                 |\n",
       "| 12 | Kurang Dibutukan  | 0                 |   0               | 0                 |   0               |   0               | 0                 |  42               | 0                 | 0                 | 0                 | 0                 | 0                 |\n",
       "\n"
      ],
      "text/plain": [
       "   Pilihan.Jawaban   Seberapa.sering.anda.menggunakan.bahasa.pemrograman.C.\n",
       "7  Tahu              0                                                     \n",
       "8  Ragu-Ragu         0                                                     \n",
       "9  Kurang Tahu       0                                                     \n",
       "10 Sangat Dibutuhkan 0                                                     \n",
       "11 Dibutuhkan        0                                                     \n",
       "12 Kurang Dibutukan  0                                                     \n",
       "   Seberapa.tahukah.anda.tentang.bahasa.permograman.Java.\n",
       "7   69                                                   \n",
       "8   87                                                   \n",
       "9  175                                                   \n",
       "10   0                                                   \n",
       "11   0                                                   \n",
       "12   0                                                   \n",
       "   Pernahkah.anda.membuat.program.menggunakan.bahasa.pemrograman.Python.\n",
       "7  0                                                                    \n",
       "8  0                                                                    \n",
       "9  0                                                                    \n",
       "10 0                                                                    \n",
       "11 0                                                                    \n",
       "12 0                                                                    \n",
       "   Seberapa.tahukah.anda.tentang.Pemrograman.Interface..API..\n",
       "7   49                                                       \n",
       "8   75                                                       \n",
       "9  167                                                       \n",
       "10   0                                                       \n",
       "11   0                                                       \n",
       "12   0                                                       \n",
       "   Seberapa.tahukah.anda.tentang.Pemrograman.Berorientasi.Objek..OOP..\n",
       "7   64                                                                \n",
       "8   70                                                                \n",
       "9  153                                                                \n",
       "10   0                                                                \n",
       "11   0                                                                \n",
       "12   0                                                                \n",
       "   Seberapa.sering.anda.menggunakan.programming.software.bajakan.\n",
       "7  0                                                             \n",
       "8  0                                                             \n",
       "9  0                                                             \n",
       "10 0                                                             \n",
       "11 0                                                             \n",
       "12 0                                                             \n",
       "   Seberapa.perlunya.dokumen.manual.tutorial.ketika.membuat.program.\n",
       "7    0                                                              \n",
       "8   51                                                              \n",
       "9    0                                                              \n",
       "10 172                                                              \n",
       "11 187                                                              \n",
       "12  42                                                              \n",
       "   Pernakah.anda.melakukan.trial.dan.error.atau.mengembangkan.program.yang.dibuat.orang.lain.\n",
       "7  0                                                                                         \n",
       "8  0                                                                                         \n",
       "9  0                                                                                         \n",
       "10 0                                                                                         \n",
       "11 0                                                                                         \n",
       "12 0                                                                                         \n",
       "   Seberapa.seringkah.anda.menggunakan.Extension.saat.membuat.program.\n",
       "7  0                                                                  \n",
       "8  0                                                                  \n",
       "9  0                                                                  \n",
       "10 0                                                                  \n",
       "11 0                                                                  \n",
       "12 0                                                                  \n",
       "   Seberapa.sering.anda.mengelola..menginstal.menghapus.menonaktifkan.instalasi..Extension.anda.\n",
       "7  0                                                                                            \n",
       "8  0                                                                                            \n",
       "9  0                                                                                            \n",
       "10 0                                                                                            \n",
       "11 0                                                                                            \n",
       "12 0                                                                                            \n",
       "   Apakah.anda.sering.menggunakan.Extension.berbayar.\n",
       "7  0                                                 \n",
       "8  0                                                 \n",
       "9  0                                                 \n",
       "10 0                                                 \n",
       "11 0                                                 \n",
       "12 0                                                 \n",
       "   Apakah.anda.sering.menggunakan.Auto.Indent.Extension.\n",
       "7  0                                                    \n",
       "8  0                                                    \n",
       "9  0                                                    \n",
       "10 0                                                    \n",
       "11 0                                                    \n",
       "12 0                                                    "
      ]
     },
     "metadata": {},
     "output_type": "display_data"
    }
   ],
   "source": [
    "tail(mydata)"
   ]
  },
  {
   "cell_type": "code",
   "execution_count": 75,
   "metadata": {},
   "outputs": [],
   "source": [
    "#Mengambil variabel numaerik\n",
    "data <- mydata[,2:13]\n",
    "data.species <- mydata[,13]"
   ]
  },
  {
   "cell_type": "code",
   "execution_count": 76,
   "metadata": {},
   "outputs": [],
   "source": [
    "#Apply PCA\n",
    "data.pca <- prcomp(data, center=TRUE, scale=TRUE)"
   ]
  },
  {
   "cell_type": "code",
   "execution_count": 77,
   "metadata": {},
   "outputs": [
    {
     "data": {
      "text/plain": [
       "Standard deviations (1, .., p=12):\n",
       " [1] 2.935838e+00 1.461133e+00 1.013193e+00 4.229172e-01 1.411278e-01\n",
       " [6] 1.292203e-01 5.228184e-02 2.838301e-02 1.932942e-02 9.994360e-17\n",
       "[11] 4.051024e-17 1.096330e-17\n",
       "\n",
       "Rotation (n x k) = (12 x 12):\n",
       "                                                                                                      PC1\n",
       "Seberapa.sering.anda.menggunakan.bahasa.pemrograman.C.                                         0.29809396\n",
       "Seberapa.tahukah.anda.tentang.bahasa.permograman.Java.                                         0.19068840\n",
       "Pernahkah.anda.membuat.program.menggunakan.bahasa.pemrograman.Python.                          0.33065495\n",
       "Seberapa.tahukah.anda.tentang.Pemrograman.Interface..API..                                     0.23518788\n",
       "Seberapa.tahukah.anda.tentang.Pemrograman.Berorientasi.Objek..OOP..                            0.23737544\n",
       "Seberapa.sering.anda.menggunakan.programming.software.bajakan.                                 0.31599088\n",
       "Seberapa.perlunya.dokumen.manual.tutorial.ketika.membuat.program.                             -0.05649497\n",
       "Pernakah.anda.melakukan.trial.dan.error.atau.mengembangkan.program.yang.dibuat.orang.lain.     0.33303595\n",
       "Seberapa.seringkah.anda.menggunakan.Extension.saat.membuat.program.                            0.33212146\n",
       "Seberapa.sering.anda.mengelola..menginstal.menghapus.menonaktifkan.instalasi..Extension.anda.  0.32381274\n",
       "Apakah.anda.sering.menggunakan.Extension.berbayar.                                             0.33494242\n",
       "Apakah.anda.sering.menggunakan.Auto.Indent.Extension.                                          0.33538657\n",
       "                                                                                                      PC2\n",
       "Seberapa.sering.anda.menggunakan.bahasa.pemrograman.C.                                        -0.26514794\n",
       "Seberapa.tahukah.anda.tentang.bahasa.permograman.Java.                                         0.56171462\n",
       "Pernahkah.anda.membuat.program.menggunakan.bahasa.pemrograman.Python.                         -0.03376427\n",
       "Seberapa.tahukah.anda.tentang.Pemrograman.Interface..API..                                     0.49247201\n",
       "Seberapa.tahukah.anda.tentang.Pemrograman.Berorientasi.Objek..OOP..                            0.48983145\n",
       "Seberapa.sering.anda.menggunakan.programming.software.bajakan.                                -0.23146614\n",
       "Seberapa.perlunya.dokumen.manual.tutorial.ketika.membuat.program.                             -0.06146470\n",
       "Pernakah.anda.melakukan.trial.dan.error.atau.mengembangkan.program.yang.dibuat.orang.lain.    -0.09518524\n",
       "Seberapa.seringkah.anda.menggunakan.Extension.saat.membuat.program.                           -0.14235709\n",
       "Seberapa.sering.anda.mengelola..menginstal.menghapus.menonaktifkan.instalasi..Extension.anda. -0.19392877\n",
       "Apakah.anda.sering.menggunakan.Extension.berbayar.                                            -0.05514150\n",
       "Apakah.anda.sering.menggunakan.Auto.Indent.Extension.                                         -0.05692540\n",
       "                                                                                                      PC3\n",
       "Seberapa.sering.anda.menggunakan.bahasa.pemrograman.C.                                        -0.12832554\n",
       "Seberapa.tahukah.anda.tentang.bahasa.permograman.Java.                                        -0.02360790\n",
       "Pernahkah.anda.membuat.program.menggunakan.bahasa.pemrograman.Python.                          0.11906643\n",
       "Seberapa.tahukah.anda.tentang.Pemrograman.Interface..API..                                     0.03442330\n",
       "Seberapa.tahukah.anda.tentang.Pemrograman.Berorientasi.Objek..OOP..                            0.02324623\n",
       "Seberapa.sering.anda.menggunakan.programming.software.bajakan.                                -0.10284401\n",
       "Seberapa.perlunya.dokumen.manual.tutorial.ketika.membuat.program.                              0.96423289\n",
       "Pernakah.anda.melakukan.trial.dan.error.atau.mengembangkan.program.yang.dibuat.orang.lain.     0.05067971\n",
       "Seberapa.seringkah.anda.menggunakan.Extension.saat.membuat.program.                            0.01465552\n",
       "Seberapa.sering.anda.mengelola..menginstal.menghapus.menonaktifkan.instalasi..Extension.anda. -0.04636840\n",
       "Apakah.anda.sering.menggunakan.Extension.berbayar.                                             0.10493268\n",
       "Apakah.anda.sering.menggunakan.Auto.Indent.Extension.                                          0.10395665\n",
       "                                                                                                      PC4\n",
       "Seberapa.sering.anda.menggunakan.bahasa.pemrograman.C.                                         0.59842802\n",
       "Seberapa.tahukah.anda.tentang.bahasa.permograman.Java.                                         0.25258712\n",
       "Pernahkah.anda.membuat.program.menggunakan.bahasa.pemrograman.Python.                         -0.45159079\n",
       "Seberapa.tahukah.anda.tentang.Pemrograman.Interface..API..                                     0.10459652\n",
       "Seberapa.tahukah.anda.tentang.Pemrograman.Berorientasi.Objek..OOP..                            0.02349109\n",
       "Seberapa.sering.anda.menggunakan.programming.software.bajakan.                                 0.15699847\n",
       "Seberapa.perlunya.dokumen.manual.tutorial.ketika.membuat.program.                              0.23498218\n",
       "Pernakah.anda.melakukan.trial.dan.error.atau.mengembangkan.program.yang.dibuat.orang.lain.    -0.26308839\n",
       "Seberapa.seringkah.anda.menggunakan.Extension.saat.membuat.program.                            0.11163802\n",
       "Seberapa.sering.anda.mengelola..menginstal.menghapus.menonaktifkan.instalasi..Extension.anda.  0.25324018\n",
       "Apakah.anda.sering.menggunakan.Extension.berbayar.                                            -0.27448054\n",
       "Apakah.anda.sering.menggunakan.Auto.Indent.Extension.                                         -0.24828068\n",
       "                                                                                                        PC5\n",
       "Seberapa.sering.anda.menggunakan.bahasa.pemrograman.C.                                         0.3801249768\n",
       "Seberapa.tahukah.anda.tentang.bahasa.permograman.Java.                                        -0.0002863891\n",
       "Pernahkah.anda.membuat.program.menggunakan.bahasa.pemrograman.Python.                          0.3966639543\n",
       "Seberapa.tahukah.anda.tentang.Pemrograman.Interface..API..                                    -0.0751060170\n",
       "Seberapa.tahukah.anda.tentang.Pemrograman.Berorientasi.Objek..OOP..                            0.0360040952\n",
       "Seberapa.sering.anda.menggunakan.programming.software.bajakan.                                -0.0845756874\n",
       "Seberapa.perlunya.dokumen.manual.tutorial.ketika.membuat.program.                             -0.0298492544\n",
       "Pernakah.anda.melakukan.trial.dan.error.atau.mengembangkan.program.yang.dibuat.orang.lain.    -0.6946301736\n",
       "Seberapa.seringkah.anda.menggunakan.Extension.saat.membuat.program.                           -0.1138264673\n",
       "Seberapa.sering.anda.mengelola..menginstal.menghapus.menonaktifkan.instalasi..Extension.anda. -0.2840918719\n",
       "Apakah.anda.sering.menggunakan.Extension.berbayar.                                             0.2782988402\n",
       "Apakah.anda.sering.menggunakan.Auto.Indent.Extension.                                          0.1719168838\n",
       "                                                                                                      PC6\n",
       "Seberapa.sering.anda.menggunakan.bahasa.pemrograman.C.                                        -0.08602161\n",
       "Seberapa.tahukah.anda.tentang.bahasa.permograman.Java.                                         0.12077142\n",
       "Pernahkah.anda.membuat.program.menggunakan.bahasa.pemrograman.Python.                          0.24594781\n",
       "Seberapa.tahukah.anda.tentang.Pemrograman.Interface..API..                                     0.15609317\n",
       "Seberapa.tahukah.anda.tentang.Pemrograman.Berorientasi.Objek..OOP..                           -0.18987196\n",
       "Seberapa.sering.anda.menggunakan.programming.software.bajakan.                                 0.75414067\n",
       "Seberapa.perlunya.dokumen.manual.tutorial.ketika.membuat.program.                              0.07283004\n",
       "Pernakah.anda.melakukan.trial.dan.error.atau.mengembangkan.program.yang.dibuat.orang.lain.     0.01955948\n",
       "Seberapa.seringkah.anda.menggunakan.Extension.saat.membuat.program.                           -0.43771670\n",
       "Seberapa.sering.anda.mengelola..menginstal.menghapus.menonaktifkan.instalasi..Extension.anda. -0.17576812\n",
       "Apakah.anda.sering.menggunakan.Extension.berbayar.                                            -0.10065332\n",
       "Apakah.anda.sering.menggunakan.Auto.Indent.Extension.                                         -0.22376641\n",
       "                                                                                                      PC7\n",
       "Seberapa.sering.anda.menggunakan.bahasa.pemrograman.C.                                         0.08253250\n",
       "Seberapa.tahukah.anda.tentang.bahasa.permograman.Java.                                        -0.39122711\n",
       "Pernahkah.anda.membuat.program.menggunakan.bahasa.pemrograman.Python.                          0.00338521\n",
       "Seberapa.tahukah.anda.tentang.Pemrograman.Interface..API..                                     0.80439596\n",
       "Seberapa.tahukah.anda.tentang.Pemrograman.Berorientasi.Objek..OOP..                           -0.39316326\n",
       "Seberapa.sering.anda.menggunakan.programming.software.bajakan.                                -0.14634185\n",
       "Seberapa.perlunya.dokumen.manual.tutorial.ketika.membuat.program.                             -0.03553186\n",
       "Pernakah.anda.melakukan.trial.dan.error.atau.mengembangkan.program.yang.dibuat.orang.lain.    -0.03671832\n",
       "Seberapa.seringkah.anda.menggunakan.Extension.saat.membuat.program.                            0.09861044\n",
       "Seberapa.sering.anda.mengelola..menginstal.menghapus.menonaktifkan.instalasi..Extension.anda. -0.06313440\n",
       "Apakah.anda.sering.menggunakan.Extension.berbayar.                                            -0.02313685\n",
       "Apakah.anda.sering.menggunakan.Auto.Indent.Extension.                                          0.01470020\n",
       "                                                                                                        PC8\n",
       "Seberapa.sering.anda.menggunakan.bahasa.pemrograman.C.                                        -0.0165630148\n",
       "Seberapa.tahukah.anda.tentang.bahasa.permograman.Java.                                        -0.6374032707\n",
       "Pernahkah.anda.membuat.program.menggunakan.bahasa.pemrograman.Python.                         -0.1131003126\n",
       "Seberapa.tahukah.anda.tentang.Pemrograman.Interface..API..                                     0.0910559617\n",
       "Seberapa.tahukah.anda.tentang.Pemrograman.Berorientasi.Objek..OOP..                            0.6845318302\n",
       "Seberapa.sering.anda.menggunakan.programming.software.bajakan.                                 0.1953553620\n",
       "Seberapa.perlunya.dokumen.manual.tutorial.ketika.membuat.program.                              0.0196204610\n",
       "Pernakah.anda.melakukan.trial.dan.error.atau.mengembangkan.program.yang.dibuat.orang.lain.    -0.1119495869\n",
       "Seberapa.seringkah.anda.menggunakan.Extension.saat.membuat.program.                           -0.1790596195\n",
       "Seberapa.sering.anda.mengelola..menginstal.menghapus.menonaktifkan.instalasi..Extension.anda.  0.1245403441\n",
       "Apakah.anda.sering.menggunakan.Extension.berbayar.                                            -0.0006610505\n",
       "Apakah.anda.sering.menggunakan.Auto.Indent.Extension.                                         -0.0715651453\n",
       "                                                                                                      PC9\n",
       "Seberapa.sering.anda.menggunakan.bahasa.pemrograman.C.                                         0.30118506\n",
       "Seberapa.tahukah.anda.tentang.bahasa.permograman.Java.                                        -0.09914450\n",
       "Pernahkah.anda.membuat.program.menggunakan.bahasa.pemrograman.Python.                          0.27803103\n",
       "Seberapa.tahukah.anda.tentang.Pemrograman.Interface..API..                                    -0.06842916\n",
       "Seberapa.tahukah.anda.tentang.Pemrograman.Berorientasi.Objek..OOP..                            0.20522429\n",
       "Seberapa.sering.anda.menggunakan.programming.software.bajakan.                                -0.03875940\n",
       "Seberapa.perlunya.dokumen.manual.tutorial.ketika.membuat.program.                              0.01503484\n",
       "Pernakah.anda.melakukan.trial.dan.error.atau.mengembangkan.program.yang.dibuat.orang.lain.     0.30938043\n",
       "Seberapa.seringkah.anda.menggunakan.Extension.saat.membuat.program.                            0.34235919\n",
       "Seberapa.sering.anda.mengelola..menginstal.menghapus.menonaktifkan.instalasi..Extension.anda. -0.58454437\n",
       "Apakah.anda.sering.menggunakan.Extension.berbayar.                                            -0.42033865\n",
       "Apakah.anda.sering.menggunakan.Auto.Indent.Extension.                                         -0.20573287\n",
       "                                                                                                       PC10\n",
       "Seberapa.sering.anda.menggunakan.bahasa.pemrograman.C.                                         3.718375e-01\n",
       "Seberapa.tahukah.anda.tentang.bahasa.permograman.Java.                                         2.498002e-16\n",
       "Pernahkah.anda.membuat.program.menggunakan.bahasa.pemrograman.Python.                         -2.600405e-01\n",
       "Seberapa.tahukah.anda.tentang.Pemrograman.Interface..API..                                    -5.898060e-17\n",
       "Seberapa.tahukah.anda.tentang.Pemrograman.Berorientasi.Objek..OOP..                           -2.706169e-16\n",
       "Seberapa.sering.anda.menggunakan.programming.software.bajakan.                                -1.712632e-01\n",
       "Seberapa.perlunya.dokumen.manual.tutorial.ketika.membuat.program.                             -4.163336e-17\n",
       "Pernakah.anda.melakukan.trial.dan.error.atau.mengembangkan.program.yang.dibuat.orang.lain.     4.121126e-01\n",
       "Seberapa.seringkah.anda.menggunakan.Extension.saat.membuat.program.                           -4.008226e-01\n",
       "Seberapa.sering.anda.mengelola..menginstal.menghapus.menonaktifkan.instalasi..Extension.anda. -2.565162e-01\n",
       "Apakah.anda.sering.menggunakan.Extension.berbayar.                                             5.592968e-01\n",
       "Apakah.anda.sering.menggunakan.Auto.Indent.Extension.                                         -2.359569e-01\n",
       "                                                                                                       PC11\n",
       "Seberapa.sering.anda.menggunakan.bahasa.pemrograman.C.                                        -2.665373e-01\n",
       "Seberapa.tahukah.anda.tentang.bahasa.permograman.Java.                                         1.804112e-16\n",
       "Pernahkah.anda.membuat.program.menggunakan.bahasa.pemrograman.Python.                         -3.540041e-01\n",
       "Seberapa.tahukah.anda.tentang.Pemrograman.Interface..API..                                     7.285839e-17\n",
       "Seberapa.tahukah.anda.tentang.Pemrograman.Berorientasi.Objek..OOP..                           -3.261280e-16\n",
       "Seberapa.sering.anda.menggunakan.programming.software.bajakan.                                 3.377376e-01\n",
       "Seberapa.perlunya.dokumen.manual.tutorial.ketika.membuat.program.                              6.938894e-18\n",
       "Pernakah.anda.melakukan.trial.dan.error.atau.mengembangkan.program.yang.dibuat.orang.lain.    -2.014521e-01\n",
       "Seberapa.seringkah.anda.menggunakan.Extension.saat.membuat.program.                            5.557335e-01\n",
       "Seberapa.sering.anda.mengelola..menginstal.menghapus.menonaktifkan.instalasi..Extension.anda. -3.601860e-01\n",
       "Apakah.anda.sering.menggunakan.Extension.berbayar.                                             4.287657e-01\n",
       "Apakah.anda.sering.menggunakan.Auto.Indent.Extension.                                         -1.630204e-01\n",
       "                                                                                                       PC12\n",
       "Seberapa.sering.anda.menggunakan.bahasa.pemrograman.C.                                         8.517424e-02\n",
       "Seberapa.tahukah.anda.tentang.bahasa.permograman.Java.                                         3.053113e-16\n",
       "Pernahkah.anda.membuat.program.menggunakan.bahasa.pemrograman.Python.                         -4.129640e-01\n",
       "Seberapa.tahukah.anda.tentang.Pemrograman.Interface..API..                                    -5.126108e-16\n",
       "Seberapa.tahukah.anda.tentang.Pemrograman.Berorientasi.Objek..OOP..                           -9.540979e-18\n",
       "Seberapa.sering.anda.menggunakan.programming.software.bajakan.                                 1.760309e-01\n",
       "Seberapa.perlunya.dokumen.manual.tutorial.ketika.membuat.program.                             -3.469447e-18\n",
       "Pernakah.anda.melakukan.trial.dan.error.atau.mengembangkan.program.yang.dibuat.orang.lain.     7.302273e-02\n",
       "Seberapa.seringkah.anda.menggunakan.Extension.saat.membuat.program.                           -1.539642e-01\n",
       "Seberapa.sering.anda.mengelola..menginstal.menghapus.menonaktifkan.instalasi..Extension.anda. -3.506149e-01\n",
       "Apakah.anda.sering.menggunakan.Extension.berbayar.                                            -1.922704e-01\n",
       "Apakah.anda.sering.menggunakan.Auto.Indent.Extension.                                          7.760691e-01"
      ]
     },
     "metadata": {},
     "output_type": "display_data"
    }
   ],
   "source": [
    "data.pca"
   ]
  },
  {
   "cell_type": "code",
   "execution_count": 64,
   "metadata": {
    "scrolled": true
   },
   "outputs": [
    {
     "ename": "ERROR",
     "evalue": "Error in xy.coords(x, y, setLab = FALSE): 'x' is a list, but does not have components 'x' and 'y'\n",
     "output_type": "error",
     "traceback": [
      "Error in xy.coords(x, y, setLab = FALSE): 'x' is a list, but does not have components 'x' and 'y'\nTraceback:\n",
      "1. line(data.pca)",
      "2. xy.coords(x, y, setLab = FALSE)",
      "3. stop(\"'x' is a list, but does not have components 'x' and 'y'\")"
     ]
    }
   ],
   "source": [
    "# plot method\n",
    "(data.pca)"
   ]
  },
  {
   "cell_type": "code",
   "execution_count": 44,
   "metadata": {},
   "outputs": [
    {
     "data": {
      "text/plain": [
       "Importance of components:\n",
       "                          PC1    PC2     PC3    PC4     PC5     PC6     PC7\n",
       "Standard deviation     2.9358 1.4611 1.01319 0.4229 0.14113 0.12922 0.05228\n",
       "Proportion of Variance 0.7183 0.1779 0.08555 0.0149 0.00166 0.00139 0.00023\n",
       "Cumulative Proportion  0.7183 0.8962 0.98172 0.9966 0.99828 0.99967 0.99990\n",
       "                           PC8     PC9      PC10      PC11      PC12\n",
       "Standard deviation     0.02838 0.01933 9.994e-17 4.051e-17 1.096e-17\n",
       "Proportion of Variance 0.00007 0.00003 0.000e+00 0.000e+00 0.000e+00\n",
       "Cumulative Proportion  0.99997 1.00000 1.000e+00 1.000e+00 1.000e+00"
      ]
     },
     "metadata": {},
     "output_type": "display_data"
    }
   ],
   "source": [
    "summary(data.pca)"
   ]
  },
  {
   "cell_type": "code",
   "execution_count": 59,
   "metadata": {},
   "outputs": [
    {
     "data": {
      "text/html": [
       "<table>\n",
       "<thead><tr><th scope=col>PC1</th><th scope=col>PC2</th><th scope=col>PC3</th><th scope=col>PC4</th><th scope=col>PC5</th><th scope=col>PC6</th><th scope=col>PC7</th><th scope=col>PC8</th><th scope=col>PC9</th><th scope=col>PC10</th><th scope=col>PC11</th><th scope=col>PC12</th></tr></thead>\n",
       "<tbody>\n",
       "\t<tr><td>-1.16070821  </td><td>-0.59215453  </td><td>-0.6597399   </td><td>-0.36006604  </td><td>-0.145978472 </td><td>-0.001046418 </td><td> 0.0389083255</td><td>-0.0241274214</td><td> 0.0483910968</td><td> 3.057836e-16</td><td> 1.776054e-16</td><td>-1.101853e-16</td></tr>\n",
       "\t<tr><td> 0.06987104  </td><td>-1.22703204  </td><td>-0.7393249   </td><td> 0.03188488  </td><td>-0.343882523 </td><td> 0.097935486 </td><td>-0.0281083622</td><td> 0.0143174125</td><td>-0.0258183562</td><td>-4.947134e-17</td><td> 2.721237e-16</td><td> 1.791322e-16</td></tr>\n",
       "\t<tr><td> 1.98384991  </td><td>-2.25485927  </td><td>-0.8922129   </td><td> 0.96962084  </td><td> 0.117473955 </td><td>-0.080998820 </td><td> 0.0086172926</td><td>-0.0031611402</td><td> 0.0057307207</td><td> 3.907885e-16</td><td> 3.388717e-16</td><td> 5.675342e-16</td></tr>\n",
       "\t<tr><td>-0.47902985  </td><td>-0.88728748  </td><td>-0.6453832   </td><td>-0.38594249  </td><td> 0.232886102 </td><td> 0.306926436 </td><td>-0.0089941507</td><td> 0.0045589875</td><td>-0.0033069173</td><td>-1.681669e-16</td><td>-1.091246e-16</td><td>-2.114333e-17</td></tr>\n",
       "\t<tr><td> 8.66487294  </td><td> 0.43527471  </td><td> 0.7222991   </td><td>-0.36003908  </td><td>-0.003617606 </td><td>-0.028513474 </td><td> 0.0008772988</td><td>-0.0008128863</td><td> 0.0003489219</td><td>-6.905119e-16</td><td>-4.690112e-16</td><td>-5.165991e-16</td></tr>\n",
       "\t<tr><td>-1.56065934  </td><td>-0.05263907  </td><td>-0.6152246   </td><td>-0.41724686  </td><td> 0.070925790 </td><td>-0.183080824 </td><td> 0.0318756587</td><td> 0.0469793000</td><td>-0.0070657747</td><td>-1.420231e-19</td><td>-1.915109e-17</td><td> 9.511048e-17</td></tr>\n",
       "</tbody>\n",
       "</table>\n"
      ],
      "text/latex": [
       "\\begin{tabular}{llllllllllll}\n",
       " PC1 & PC2 & PC3 & PC4 & PC5 & PC6 & PC7 & PC8 & PC9 & PC10 & PC11 & PC12\\\\\n",
       "\\hline\n",
       "\t -1.16070821   & -0.59215453   & -0.6597399    & -0.36006604   & -0.145978472  & -0.001046418  &  0.0389083255 & -0.0241274214 &  0.0483910968 &  3.057836e-16 &  1.776054e-16 & -1.101853e-16\\\\\n",
       "\t  0.06987104   & -1.22703204   & -0.7393249    &  0.03188488   & -0.343882523  &  0.097935486  & -0.0281083622 &  0.0143174125 & -0.0258183562 & -4.947134e-17 &  2.721237e-16 &  1.791322e-16\\\\\n",
       "\t  1.98384991   & -2.25485927   & -0.8922129    &  0.96962084   &  0.117473955  & -0.080998820  &  0.0086172926 & -0.0031611402 &  0.0057307207 &  3.907885e-16 &  3.388717e-16 &  5.675342e-16\\\\\n",
       "\t -0.47902985   & -0.88728748   & -0.6453832    & -0.38594249   &  0.232886102  &  0.306926436  & -0.0089941507 &  0.0045589875 & -0.0033069173 & -1.681669e-16 & -1.091246e-16 & -2.114333e-17\\\\\n",
       "\t  8.66487294   &  0.43527471   &  0.7222991    & -0.36003908   & -0.003617606  & -0.028513474  &  0.0008772988 & -0.0008128863 &  0.0003489219 & -6.905119e-16 & -4.690112e-16 & -5.165991e-16\\\\\n",
       "\t -1.56065934   & -0.05263907   & -0.6152246    & -0.41724686   &  0.070925790  & -0.183080824  &  0.0318756587 &  0.0469793000 & -0.0070657747 & -1.420231e-19 & -1.915109e-17 &  9.511048e-17\\\\\n",
       "\\end{tabular}\n"
      ],
      "text/markdown": [
       "\n",
       "| PC1 | PC2 | PC3 | PC4 | PC5 | PC6 | PC7 | PC8 | PC9 | PC10 | PC11 | PC12 |\n",
       "|---|---|---|---|---|---|---|---|---|---|---|---|\n",
       "| -1.16070821   | -0.59215453   | -0.6597399    | -0.36006604   | -0.145978472  | -0.001046418  |  0.0389083255 | -0.0241274214 |  0.0483910968 |  3.057836e-16 |  1.776054e-16 | -1.101853e-16 |\n",
       "|  0.06987104   | -1.22703204   | -0.7393249    |  0.03188488   | -0.343882523  |  0.097935486  | -0.0281083622 |  0.0143174125 | -0.0258183562 | -4.947134e-17 |  2.721237e-16 |  1.791322e-16 |\n",
       "|  1.98384991   | -2.25485927   | -0.8922129    |  0.96962084   |  0.117473955  | -0.080998820  |  0.0086172926 | -0.0031611402 |  0.0057307207 |  3.907885e-16 |  3.388717e-16 |  5.675342e-16 |\n",
       "| -0.47902985   | -0.88728748   | -0.6453832    | -0.38594249   |  0.232886102  |  0.306926436  | -0.0089941507 |  0.0045589875 | -0.0033069173 | -1.681669e-16 | -1.091246e-16 | -2.114333e-17 |\n",
       "|  8.66487294   |  0.43527471   |  0.7222991    | -0.36003908   | -0.003617606  | -0.028513474  |  0.0008772988 | -0.0008128863 |  0.0003489219 | -6.905119e-16 | -4.690112e-16 | -5.165991e-16 |\n",
       "| -1.56065934   | -0.05263907   | -0.6152246    | -0.41724686   |  0.070925790  | -0.183080824  |  0.0318756587 |  0.0469793000 | -0.0070657747 | -1.420231e-19 | -1.915109e-17 |  9.511048e-17 |\n",
       "\n"
      ],
      "text/plain": [
       "     PC1         PC2         PC3        PC4         PC5          PC6         \n",
       "[1,] -1.16070821 -0.59215453 -0.6597399 -0.36006604 -0.145978472 -0.001046418\n",
       "[2,]  0.06987104 -1.22703204 -0.7393249  0.03188488 -0.343882523  0.097935486\n",
       "[3,]  1.98384991 -2.25485927 -0.8922129  0.96962084  0.117473955 -0.080998820\n",
       "[4,] -0.47902985 -0.88728748 -0.6453832 -0.38594249  0.232886102  0.306926436\n",
       "[5,]  8.66487294  0.43527471  0.7222991 -0.36003908 -0.003617606 -0.028513474\n",
       "[6,] -1.56065934 -0.05263907 -0.6152246 -0.41724686  0.070925790 -0.183080824\n",
       "     PC7           PC8           PC9           PC10          PC11         \n",
       "[1,]  0.0389083255 -0.0241274214  0.0483910968  3.057836e-16  1.776054e-16\n",
       "[2,] -0.0281083622  0.0143174125 -0.0258183562 -4.947134e-17  2.721237e-16\n",
       "[3,]  0.0086172926 -0.0031611402  0.0057307207  3.907885e-16  3.388717e-16\n",
       "[4,] -0.0089941507  0.0045589875 -0.0033069173 -1.681669e-16 -1.091246e-16\n",
       "[5,]  0.0008772988 -0.0008128863  0.0003489219 -6.905119e-16 -4.690112e-16\n",
       "[6,]  0.0318756587  0.0469793000 -0.0070657747 -1.420231e-19 -1.915109e-17\n",
       "     PC12         \n",
       "[1,] -1.101853e-16\n",
       "[2,]  1.791322e-16\n",
       "[3,]  5.675342e-16\n",
       "[4,] -2.114333e-17\n",
       "[5,] -5.165991e-16\n",
       "[6,]  9.511048e-17"
      ]
     },
     "metadata": {},
     "output_type": "display_data"
    }
   ],
   "source": [
    "#Jika masing-masing data pada keempat variabel dimasukkan dalam kombinasi linier yang terbentuk maka akan terbentuk data baru yaitu sebagai berikut. Dengan menggunakan fungsi predict() dapat ditampilkan data hasil PCA.\n",
    "\n",
    "prediksi=predict(data.pca, newdata=data)\n",
    "head(prediksi)"
   ]
  },
  {
   "cell_type": "code",
   "execution_count": null,
   "metadata": {},
   "outputs": [],
   "source": [
    "z"
   ]
  }
 ],
 "metadata": {
  "kernelspec": {
   "display_name": "R",
   "language": "R",
   "name": "ir"
  },
  "language_info": {
   "codemirror_mode": "r",
   "file_extension": ".r",
   "mimetype": "text/x-r-source",
   "name": "R",
   "pygments_lexer": "r",
   "version": "3.6.1"
  }
 },
 "nbformat": 4,
 "nbformat_minor": 4
}
